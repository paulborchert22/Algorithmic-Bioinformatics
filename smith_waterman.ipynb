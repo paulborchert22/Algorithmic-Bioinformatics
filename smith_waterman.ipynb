{
 "cells": [
  {
   "cell_type": "markdown",
   "metadata": {},
   "source": [
    "# Smith-Waterman-Algorithm\n",
    "\n",
    "- dynamic programming approach used for local sequence alignment\n",
    "- introduced by Temple F. Smith and Michael S. Waterman in 1981\n",
    "- Time complexity: $O(mn)$, where $m$ and $n$ are the lengths of the two sequences being aligned"
   ]
  },
  {
   "cell_type": "code",
   "execution_count": 211,
   "metadata": {},
   "outputs": [],
   "source": [
    "seq1 = 'TGGACAGG'\n",
    "seq2 = 'GATTGGAACGGAAAAA'\n",
    "\n",
    "match = 1\n",
    "mismatch = -1\n",
    "indel = -1"
   ]
  },
  {
   "cell_type": "markdown",
   "metadata": {},
   "source": [
    "## Initialization"
   ]
  },
  {
   "cell_type": "code",
   "execution_count": 212,
   "metadata": {},
   "outputs": [],
   "source": [
    "m, n = len(seq1) + 1, len(seq2) + 1\n",
    "\n",
    "scoring_matrix = [[0 for j in range(n)] for i in range(m)]\n",
    "pointer_matrix = [[0 for j in range(n)] for j in range(m)]"
   ]
  },
  {
   "cell_type": "markdown",
   "metadata": {},
   "source": [
    "## Scoring"
   ]
  },
  {
   "cell_type": "code",
   "execution_count": 213,
   "metadata": {},
   "outputs": [],
   "source": [
    "max_score = 0\n",
    "max_score_pos = (0, 0)\n",
    "\n",
    "for i in range(1, m):\n",
    "    for j in range(1, n):\n",
    "        if seq1[i-1] == seq2[j-1]:\n",
    "            diagonal = scoring_matrix[i-1][j-1] + match \n",
    "        else:\n",
    "            diagonal = scoring_matrix[i-1][j-1] + mismatch\n",
    "        top = scoring_matrix[i-1][j] + indel\n",
    "        left = scoring_matrix[i][j-1] + indel\n",
    "\n",
    "        score = max(diagonal, top, left)\n",
    "        if score > max_score:\n",
    "            max_score = score\n",
    "            max_score_pos = (i, j)\n",
    "\n",
    "        if score == diagonal:\n",
    "            scoring_matrix[i][j] = max(diagonal, 0)\n",
    "            pointer_matrix[i][j] = 1\n",
    "        elif score == top:\n",
    "            scoring_matrix[i][j] = max(top, 0)\n",
    "            pointer_matrix[i][j] = 2\n",
    "        else:\n",
    "            scoring_matrix[i][j] = max(left, 0)\n",
    "            pointer_matrix[i][j] = 3"
   ]
  },
  {
   "cell_type": "markdown",
   "metadata": {},
   "source": [
    "## Backtracking"
   ]
  },
  {
   "cell_type": "code",
   "execution_count": 214,
   "metadata": {},
   "outputs": [],
   "source": [
    "seq1, seq2 = list(seq1), list(seq2)\n",
    "i, j = max_score_pos\n",
    "\n",
    "while (i > 0 or j > 0) and scoring_matrix[i][j] > 0:\n",
    "    if pointer_matrix[i][j] == 1:\n",
    "        i -= 1\n",
    "        j -= 1\n",
    "    elif pointer_matrix[i][j] == 2:\n",
    "        i -= 1\n",
    "        seq2.insert(j, '-')\n",
    "    else:\n",
    "        j -= 1\n",
    "        seq1.insert(i, '-')"
   ]
  },
  {
   "cell_type": "markdown",
   "metadata": {},
   "source": [
    "## Align Sequences"
   ]
  },
  {
   "cell_type": "code",
   "execution_count": 215,
   "metadata": {},
   "outputs": [
    {
     "name": "stdout",
     "output_type": "stream",
     "text": [
      "   TGG-ACAGG     \n",
      "   ||| || ||     \n",
      "GATTGGAAC-GGAAAAA\n"
     ]
    }
   ],
   "source": [
    "if j > i:\n",
    "    seq1 = list((j - i) * ' ') + seq1\n",
    "if i > j:\n",
    "    seq2 = list((i - j) * ' ') + seq2\n",
    "\n",
    "if len(seq1) < len(seq2):\n",
    "    seq1 += list((len(seq2) - len(seq1)) * ' ')\n",
    "if len(seq2) < len(seq1):\n",
    "    seq2 += list((len(seq1) - len(seq2)) * ' ')\n",
    "\n",
    "alignment = ['|' if seq1[i] == seq2[i] else ' ' for i in range(len(seq1))]\n",
    "\n",
    "print(''.join(seq1))\n",
    "print(''.join(alignment))\n",
    "print(''.join(seq2))"
   ]
  }
 ],
 "metadata": {
  "kernelspec": {
   "display_name": "venv-metal",
   "language": "python",
   "name": "python3"
  },
  "language_info": {
   "codemirror_mode": {
    "name": "ipython",
    "version": 3
   },
   "file_extension": ".py",
   "mimetype": "text/x-python",
   "name": "python",
   "nbconvert_exporter": "python",
   "pygments_lexer": "ipython3",
   "version": "3.11.9"
  }
 },
 "nbformat": 4,
 "nbformat_minor": 2
}
