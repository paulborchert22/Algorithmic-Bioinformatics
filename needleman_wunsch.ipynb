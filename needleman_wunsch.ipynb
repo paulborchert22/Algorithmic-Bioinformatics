{
 "cells": [
  {
   "cell_type": "markdown",
   "metadata": {},
   "source": [
    "# Needleman-Wunsch-Algorithm\n",
    "\n",
    "- dynamic programming approach used for global sequence alignment\n",
    "- introduced by Saul Ben Needleman and Christian Dennis Wunsch in 1970"
   ]
  },
  {
   "cell_type": "code",
   "execution_count": 228,
   "metadata": {},
   "outputs": [],
   "source": [
    "seq1 = 'GAATTACAA'\n",
    "seq2 = 'GATTGGACGAA'\n",
    "\n",
    "match = 1\n",
    "mismatch = -1\n",
    "indel = -1"
   ]
  },
  {
   "cell_type": "markdown",
   "metadata": {},
   "source": [
    "## Initialization"
   ]
  },
  {
   "cell_type": "code",
   "execution_count": 229,
   "metadata": {},
   "outputs": [],
   "source": [
    "m, n = len(seq1) + 1, len(seq2) + 1\n",
    "\n",
    "scoring_matrix = [[0 for j in range(n)] for i in range(m)]\n",
    "pointer_matrix = [[0 for j in range(n)] for j in range(m)]\n",
    "\n",
    "for i in range(m):\n",
    "    scoring_matrix[i][0] = i * indel\n",
    "for j in range(n):\n",
    "    scoring_matrix[0][j] = j * indel"
   ]
  },
  {
   "cell_type": "markdown",
   "metadata": {},
   "source": [
    "## Scoring"
   ]
  },
  {
   "cell_type": "code",
   "execution_count": 230,
   "metadata": {},
   "outputs": [],
   "source": [
    "for i in range(1, m):\n",
    "    for j in range(1, n):\n",
    "        if seq1[i-1] == seq2[j-1]:\n",
    "            diagonal = scoring_matrix[i-1][j-1] + match \n",
    "        else:\n",
    "            diagonal = scoring_matrix[i-1][j-1] + mismatch\n",
    "        top = scoring_matrix[i-1][j] + indel\n",
    "        left = scoring_matrix[i][j-1] + indel\n",
    "\n",
    "        if diagonal >= top and diagonal >= left:\n",
    "            scoring_matrix[i][j] = diagonal\n",
    "            pointer_matrix[i][j] = 1\n",
    "        elif top >= left:\n",
    "            scoring_matrix[i][j] = top\n",
    "            pointer_matrix[i][j] = 2\n",
    "        else:\n",
    "            scoring_matrix[i][j] = left\n",
    "            pointer_matrix[i][j] = 3"
   ]
  },
  {
   "cell_type": "markdown",
   "metadata": {},
   "source": [
    "## Backtracking"
   ]
  },
  {
   "cell_type": "code",
   "execution_count": 231,
   "metadata": {},
   "outputs": [
    {
     "name": "stdout",
     "output_type": "stream",
     "text": [
      "GAATT--AC-AA\n",
      "| |||  || ||\n",
      "G-ATTGGACGAA\n"
     ]
    }
   ],
   "source": [
    "seq1, seq2 = list(seq1), list(seq2)\n",
    "i, j = m-1, n-1\n",
    "\n",
    "while i > 0 or j > 0:\n",
    "    if pointer_matrix[i][j] == 1:\n",
    "        i -= 1\n",
    "        j -= 1\n",
    "    elif pointer_matrix[i][j] == 2:\n",
    "        i -= 1\n",
    "        seq2.insert(j, '-')\n",
    "    else:\n",
    "        j -= 1\n",
    "        seq1.insert(i, '-')\n",
    "\n",
    "alignment = ['|' if seq1[i] == seq2[i] else ' ' for i in range(len(seq1))]\n",
    "\n",
    "print(''.join(seq1))\n",
    "print(''.join(alignment))\n",
    "print(''.join(seq2))"
   ]
  }
 ],
 "metadata": {
  "kernelspec": {
   "display_name": "venv-metal",
   "language": "python",
   "name": "python3"
  },
  "language_info": {
   "codemirror_mode": {
    "name": "ipython",
    "version": 3
   },
   "file_extension": ".py",
   "mimetype": "text/x-python",
   "name": "python",
   "nbconvert_exporter": "python",
   "pygments_lexer": "ipython3",
   "version": "3.11.9"
  }
 },
 "nbformat": 4,
 "nbformat_minor": 2
}
