{
 "cells": [
  {
   "cell_type": "markdown",
   "metadata": {},
   "source": [
    "# Nussinov-Algorithm"
   ]
  },
  {
   "cell_type": "code",
   "execution_count": 175,
   "metadata": {},
   "outputs": [],
   "source": [
    "seq = 'GGACCACCAGG'\n",
    "\n",
    "min_loop_len = 1"
   ]
  },
  {
   "cell_type": "markdown",
   "metadata": {},
   "source": [
    "## Initialization"
   ]
  },
  {
   "cell_type": "code",
   "execution_count": 176,
   "metadata": {},
   "outputs": [],
   "source": [
    "n = len(seq)\n",
    "\n",
    "scoring_matrix = [[0 for j in range(n)] for i in range(n)]\n",
    "pointer_matrix = [[0 for j in range(n)] for j in range(n)]"
   ]
  },
  {
   "cell_type": "markdown",
   "metadata": {},
   "source": [
    "## Scoring"
   ]
  },
  {
   "cell_type": "code",
   "execution_count": 177,
   "metadata": {},
   "outputs": [],
   "source": [
    "def matching(pair):\n",
    "    if pair in {('A', 'U'), ('U', 'A'), ('C', 'G'), ('G', 'C')}:\n",
    "        return 1\n",
    "    return 0\n",
    "\n",
    "\n",
    "for i in range(n, -1, -1):\n",
    "    for j in range(i + min_loop_len + 1, n):\n",
    "        left = scoring_matrix[i][j-1]\n",
    "\n",
    "        bifurcation = 0\n",
    "        coordinates = None\n",
    "        for k in range(i, j - min_loop_len):\n",
    "            if matching((seq[k], seq[j])): \n",
    "                new_value = scoring_matrix[i][k-1] + scoring_matrix[k+1][j-1] + 1\n",
    "                if new_value > bifurcation:\n",
    "                    bifurcation = new_value\n",
    "                    coordinates = ((i, k-1), (k+1, j-1))\n",
    "\n",
    "        # choosing maximum score\n",
    "        max_score = max(left, bifurcation)\n",
    "        scoring_matrix[i][j] = max_score\n",
    "        \n",
    "        # filling in the pointers\n",
    "        if bifurcation > left:\n",
    "            pointer_matrix[i][j] = coordinates\n",
    "        else:\n",
    "            pointer_matrix[i][j] = 0"
   ]
  },
  {
   "cell_type": "markdown",
   "metadata": {},
   "source": [
    "## Backtracking"
   ]
  },
  {
   "cell_type": "code",
   "execution_count": 178,
   "metadata": {},
   "outputs": [
    {
     "name": "stdout",
     "output_type": "stream",
     "text": [
      "((.)).((.))\n"
     ]
    }
   ],
   "source": [
    "def backtracking(i, j, pointer_matrix, structure, seq):\n",
    "    if i >= j:\n",
    "        return\n",
    "\n",
    "    if pointer_matrix[i][j] == 0:\n",
    "        backtracking(i, j-1, pointer_matrix, structure, seq)\n",
    "    else:\n",
    "        (i1, k1), (k2, j1) = pointer_matrix[i][j]\n",
    "        structure[j] = ')'\n",
    "        structure[k1+1] = '('\n",
    "        \n",
    "        backtracking(i1, k1, pointer_matrix, structure, seq)\n",
    "        backtracking(k2, j1, pointer_matrix, structure, seq)\n",
    "\n",
    "\n",
    "structure = ['.'] * n\n",
    "backtracking(0, n-1, pointer_matrix, structure, seq)\n",
    "print(seq)\n",
    "print(''.join(structure))"
   ]
  }
 ],
 "metadata": {
  "language_info": {
   "name": "python"
  }
 },
 "nbformat": 4,
 "nbformat_minor": 2
}
